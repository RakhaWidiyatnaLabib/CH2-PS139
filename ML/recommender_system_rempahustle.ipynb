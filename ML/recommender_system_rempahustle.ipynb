{
  "cells": [
    {
      "cell_type": "markdown",
      "metadata": {
        "id": "0gMZLQujMqAE"
      },
      "source": [
        "# Download FILE"
      ]
    },
    {
      "cell_type": "markdown",
      "metadata": {
        "id": "31h9LUWM72hP"
      },
      "source": [
        "DOWNLOAD FILE"
      ]
    },
    {
      "cell_type": "code",
      "execution_count": 3,
      "metadata": {
        "colab": {
          "base_uri": "https://localhost:8080/"
        },
        "id": "fzLG-WsV0M2R",
        "outputId": "23bd73bd-d292-4bc8-f4f4-a3637ab28cbf"
      },
      "outputs": [
        {
          "name": "stderr",
          "output_type": "stream",
          "text": [
            "Downloading...\n",
            "From: https://drive.google.com/uc?id=1MPLNrN6QaJFnQgHwTjFsc-lAgOXLV1sA\n",
            "To: /content/favorit_rempah_user.csv\n",
            "100%|██████████| 8.36k/8.36k [00:00<00:00, 6.35MB/s]\n"
          ]
        }
      ],
      "source": [
        "import gdown\n",
        "import pandas as pd\n",
        "\n",
        "# Fungsi untuk mengunduh file dari Google Drive\n",
        "def download_file_from_google_drive(file_id, output_file):\n",
        "    url = f'https://drive.google.com/uc?id={file_id}'\n",
        "    gdown.download(url, output_file, quiet=False)\n",
        "\n",
        "# Download file favorit rempah pengguna\n",
        "file_rempah_user = 'favorit_rempah_user.csv'\n",
        "file_id_rempah_user = '1MPLNrN6QaJFnQgHwTjFsc-lAgOXLV1sA'\n",
        "download_file_from_google_drive(file_id_rempah_user, file_rempah_user)\n",
        "\n",
        "# Membaca data dari file CSV\n",
        "df_rempah_user = pd.read_csv(file_rempah_user)"
      ]
    },
    {
      "cell_type": "code",
      "execution_count": 5,
      "metadata": {
        "colab": {
          "base_uri": "https://localhost:8080/"
        },
        "id": "cZ5_75Ie7_c8",
        "outputId": "b54c082b-8b40-4ac0-ef35-7ed93ba11e87"
      },
      "outputs": [
        {
          "name": "stdout",
          "output_type": "stream",
          "text": [
            "Data Rempah Pengguna:\n",
            "(150, 26)\n"
          ]
        }
      ],
      "source": [
        "print(\"Data Rempah Pengguna:\")\n",
        "print(df_rempah_user.shape)"
      ]
    },
    {
      "cell_type": "markdown",
      "metadata": {
        "id": "GBoLAv_mMwmZ"
      },
      "source": [
        "# Top Rempah - Untuk user tanpa fav apapun"
      ]
    },
    {
      "cell_type": "code",
      "execution_count": 6,
      "metadata": {
        "id": "XxkHo438M4i_"
      },
      "outputs": [],
      "source": [
        "def recommend_top_spice(df_rempah_user,top_n=5):\n",
        "    # Menghitung jumlah pengguna yang menyukai setiap rempah\n",
        "    rempah_fav = df_rempah_user.iloc[:, 1:].sum()\n",
        "    rempah_fav_sorted = rempah_fav.sort_values(ascending=False)\n",
        "    top_5_rempah = rempah_fav_sorted.head(top_n).index.values\n",
        "\n",
        "    return top_5_rempah\n",
        "\n"
      ]
    },
    {
      "cell_type": "code",
      "execution_count": 7,
      "metadata": {
        "colab": {
          "base_uri": "https://localhost:8080/"
        },
        "id": "xNVYJw_LP3tx",
        "outputId": "dbb6ee63-f477-479f-eb86-fd99e491cfd2"
      },
      "outputs": [
        {
          "name": "stdout",
          "output_type": "stream",
          "text": [
            "Nama Top 5 Rempah yang Paling Banyak Disukai: wijen, biji ketumbar, bunga lawang, lengkuas, saffron\n"
          ]
        }
      ],
      "source": [
        "top_5_rempah= recommend_top_spice(df_rempah_user, 5)\n",
        "print(\"Nama Top 5 Rempah yang Paling Banyak Disukai: \" + ', '.join(top_5_rempah))"
      ]
    },
    {
      "cell_type": "markdown",
      "metadata": {
        "id": "B7047aISV-p5"
      },
      "source": [
        "# Collaborative filter user-based - Untuk user dengan fav rempah"
      ]
    },
    {
      "cell_type": "code",
      "execution_count": 8,
      "metadata": {
        "id": "CBUV9uNyWQn-"
      },
      "outputs": [],
      "source": [
        "from sklearn.metrics.pairwise import cosine_similarity\n",
        "import numpy as np\n",
        "\n",
        "def collaborative_filter_user_base(rempah_user, user_id, num_rempah=5):\n",
        "    # Menghitung similarity antar pengguna berdasarkan preferensi rempah\n",
        "    user_rempah_matrix = df_rempah_user.iloc[:, 1:]  # Mengambil kolom rempah sebagai matriks\n",
        "    user_similarity_rempah = cosine_similarity(user_rempah_matrix)\n",
        "\n",
        "    # Temukan pengguna lain yang memiliki kesamaan preferensi rempah\n",
        "    similar_users_rempah = np.argsort(user_similarity_rempah[user_id - 1])[::-1][1:]  # Mengurutkan pengguna berdasarkan similarity\n",
        "    recommended_rempah = []\n",
        "\n",
        "    # Gabung preferensi rempah dari pengguna lain yang memiliki similarity tinggi\n",
        "    for user in similar_users_rempah:\n",
        "        similar_user_rempah = df_rempah_user.iloc[user, 1:]\n",
        "        recommended_rempah.extend(similar_user_rempah[similar_user_rempah == 1].index.tolist())\n",
        "\n",
        "    # Hapus rempah yang sudah ada di preferensi pengguna\n",
        "    user_rempah = df_rempah_user.iloc[user_id - 1, 1:]\n",
        "    recommended_rempah = [rem for rem in recommended_rempah if user_rempah[rem] != 1]\n",
        "\n",
        "    # Ambil 5 rempah yang direkomendasikan (tanpa User_ID)\n",
        "    recommended_rempah = [rem for rem in recommended_rempah if rem != 'User_ID'][:num_rempah]\n",
        "\n",
        "    return recommended_rempah\n",
        "\n"
      ]
    },
    {
      "cell_type": "code",
      "execution_count": 9,
      "metadata": {
        "colab": {
          "base_uri": "https://localhost:8080/"
        },
        "id": "c7fUwjAnt7ab",
        "outputId": "f3deb3e5-fe06-4261-8880-ca95a238b723"
      },
      "outputs": [
        {
          "name": "stdout",
          "output_type": "stream",
          "text": [
            "Rekomendasi 5 Rempah untuk User 39:\n",
            "['biji ketumbar', 'jinten', 'kayu secang', 'kemiri', 'kluwek']\n"
          ]
        }
      ],
      "source": [
        "# Contoh pengguna yang akan diberikan rekomendasi\n",
        "user_id = 39\n",
        "\n",
        "# Mendapatkan rekomendasi rempah untuk pengguna dengan user_id\n",
        "recommended_rempah= collaborative_filter_user_base(df_rempah_user, user_id)\n",
        "print(f\"Rekomendasi 5 Rempah untuk User {user_id}:\")\n",
        "print(recommended_rempah)"
      ]
    }
  ],
  "metadata": {
    "colab": {
      "collapsed_sections": [
        "0gMZLQujMqAE",
        "GBoLAv_mMwmZ",
        "B7047aISV-p5",
        "JLGMApP2fSwH"
      ],
      "provenance": []
    },
    "kernelspec": {
      "display_name": "Python 3",
      "name": "python3"
    },
    "language_info": {
      "name": "python"
    }
  },
  "nbformat": 4,
  "nbformat_minor": 0
}
